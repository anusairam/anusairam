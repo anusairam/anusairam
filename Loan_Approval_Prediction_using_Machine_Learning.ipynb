{
  "cells": [
    {
      "cell_type": "markdown",
      "metadata": {
        "id": "view-in-github",
        "colab_type": "text"
      },
      "source": [
        "<a href=\"https://colab.research.google.com/github/anusairam/anusairam/blob/main/Loan_Approval_Prediction_using_Machine_Learning.ipynb\" target=\"_parent\"><img src=\"https://colab.research.google.com/assets/colab-badge.svg\" alt=\"Open In Colab\"/></a>"
      ]
    },
    {
      "cell_type": "markdown",
      "id": "1d29c388",
      "metadata": {
        "id": "1d29c388"
      },
      "source": [
        "Problem Statement : Loan Approval Prediction using Machine Learning"
      ]
    },
    {
      "cell_type": "markdown",
      "id": "b35bae5d",
      "metadata": {
        "id": "b35bae5d"
      },
      "source": [
        "To design and implement a machine learning model to predict whether a loan application should be approved or denied based on various features provided in the loan dataset.\n",
        "The goal is to develop a robust and accurate model that can assist financial institutions in making informed decisions regarding loan approvals."
      ]
    },
    {
      "cell_type": "markdown",
      "id": "5ae1b37a",
      "metadata": {
        "id": "5ae1b37a"
      },
      "source": [
        "Dataset Description:\n",
        "The dataset contains information about loan applicants, including attributes such as age, income, credit history, loan amount, loan term, employment status, etc.\n",
        "Each record in the dataset represents a loan application, and the target variable is the loan approval status (Approved or Denied)."
      ]
    },
    {
      "cell_type": "markdown",
      "id": "3f40d1c4",
      "metadata": {
        "id": "3f40d1c4"
      },
      "source": [
        "Note: The project aims to develop a predictive model to assist in decision-making."
      ]
    },
    {
      "cell_type": "code",
      "execution_count": null,
      "id": "f276f7f3",
      "metadata": {
        "id": "f276f7f3"
      },
      "outputs": [],
      "source": [
        "import numpy as np\n",
        "import pandas as pd\n",
        "import matplotlib.pyplot as plt\n",
        "import seaborn as sns\n",
        "from sklearn import svm"
      ]
    },
    {
      "cell_type": "code",
      "execution_count": null,
      "id": "94dc4066",
      "metadata": {
        "id": "94dc4066"
      },
      "outputs": [],
      "source": [
        "df = pd.read_csv(\"loan_data_set.csv\")"
      ]
    },
    {
      "cell_type": "code",
      "execution_count": null,
      "id": "45d84511",
      "metadata": {
        "id": "45d84511",
        "outputId": "5c33fa48-d90c-43c6-f745-29b8f0e96034"
      },
      "outputs": [
        {
          "data": {
            "text/html": [
              "<div>\n",
              "<style scoped>\n",
              "    .dataframe tbody tr th:only-of-type {\n",
              "        vertical-align: middle;\n",
              "    }\n",
              "\n",
              "    .dataframe tbody tr th {\n",
              "        vertical-align: top;\n",
              "    }\n",
              "\n",
              "    .dataframe thead th {\n",
              "        text-align: right;\n",
              "    }\n",
              "</style>\n",
              "<table border=\"1\" class=\"dataframe\">\n",
              "  <thead>\n",
              "    <tr style=\"text-align: right;\">\n",
              "      <th></th>\n",
              "      <th>Loan_ID</th>\n",
              "      <th>Gender</th>\n",
              "      <th>Married</th>\n",
              "      <th>Dependents</th>\n",
              "      <th>Education</th>\n",
              "      <th>Self_Employed</th>\n",
              "      <th>ApplicantIncome</th>\n",
              "      <th>CoapplicantIncome</th>\n",
              "      <th>LoanAmount</th>\n",
              "      <th>Loan_Amount_Term</th>\n",
              "      <th>Credit_History</th>\n",
              "      <th>Property_Area</th>\n",
              "      <th>Loan_Status</th>\n",
              "    </tr>\n",
              "  </thead>\n",
              "  <tbody>\n",
              "    <tr>\n",
              "      <th>0</th>\n",
              "      <td>LP001002</td>\n",
              "      <td>Male</td>\n",
              "      <td>No</td>\n",
              "      <td>0</td>\n",
              "      <td>Graduate</td>\n",
              "      <td>No</td>\n",
              "      <td>5849</td>\n",
              "      <td>0.0</td>\n",
              "      <td>NaN</td>\n",
              "      <td>360.0</td>\n",
              "      <td>1.0</td>\n",
              "      <td>Urban</td>\n",
              "      <td>Y</td>\n",
              "    </tr>\n",
              "    <tr>\n",
              "      <th>1</th>\n",
              "      <td>LP001003</td>\n",
              "      <td>Male</td>\n",
              "      <td>Yes</td>\n",
              "      <td>1</td>\n",
              "      <td>Graduate</td>\n",
              "      <td>No</td>\n",
              "      <td>4583</td>\n",
              "      <td>1508.0</td>\n",
              "      <td>128.0</td>\n",
              "      <td>360.0</td>\n",
              "      <td>1.0</td>\n",
              "      <td>Rural</td>\n",
              "      <td>N</td>\n",
              "    </tr>\n",
              "    <tr>\n",
              "      <th>2</th>\n",
              "      <td>LP001005</td>\n",
              "      <td>Male</td>\n",
              "      <td>Yes</td>\n",
              "      <td>0</td>\n",
              "      <td>Graduate</td>\n",
              "      <td>Yes</td>\n",
              "      <td>3000</td>\n",
              "      <td>0.0</td>\n",
              "      <td>66.0</td>\n",
              "      <td>360.0</td>\n",
              "      <td>1.0</td>\n",
              "      <td>Urban</td>\n",
              "      <td>Y</td>\n",
              "    </tr>\n",
              "    <tr>\n",
              "      <th>3</th>\n",
              "      <td>LP001006</td>\n",
              "      <td>Male</td>\n",
              "      <td>Yes</td>\n",
              "      <td>0</td>\n",
              "      <td>Not Graduate</td>\n",
              "      <td>No</td>\n",
              "      <td>2583</td>\n",
              "      <td>2358.0</td>\n",
              "      <td>120.0</td>\n",
              "      <td>360.0</td>\n",
              "      <td>1.0</td>\n",
              "      <td>Urban</td>\n",
              "      <td>Y</td>\n",
              "    </tr>\n",
              "    <tr>\n",
              "      <th>4</th>\n",
              "      <td>LP001008</td>\n",
              "      <td>Male</td>\n",
              "      <td>No</td>\n",
              "      <td>0</td>\n",
              "      <td>Graduate</td>\n",
              "      <td>No</td>\n",
              "      <td>6000</td>\n",
              "      <td>0.0</td>\n",
              "      <td>141.0</td>\n",
              "      <td>360.0</td>\n",
              "      <td>1.0</td>\n",
              "      <td>Urban</td>\n",
              "      <td>Y</td>\n",
              "    </tr>\n",
              "  </tbody>\n",
              "</table>\n",
              "</div>"
            ],
            "text/plain": [
              "    Loan_ID Gender Married Dependents     Education Self_Employed  \\\n",
              "0  LP001002   Male      No          0      Graduate            No   \n",
              "1  LP001003   Male     Yes          1      Graduate            No   \n",
              "2  LP001005   Male     Yes          0      Graduate           Yes   \n",
              "3  LP001006   Male     Yes          0  Not Graduate            No   \n",
              "4  LP001008   Male      No          0      Graduate            No   \n",
              "\n",
              "   ApplicantIncome  CoapplicantIncome  LoanAmount  Loan_Amount_Term  \\\n",
              "0             5849                0.0         NaN             360.0   \n",
              "1             4583             1508.0       128.0             360.0   \n",
              "2             3000                0.0        66.0             360.0   \n",
              "3             2583             2358.0       120.0             360.0   \n",
              "4             6000                0.0       141.0             360.0   \n",
              "\n",
              "   Credit_History Property_Area Loan_Status  \n",
              "0             1.0         Urban           Y  \n",
              "1             1.0         Rural           N  \n",
              "2             1.0         Urban           Y  \n",
              "3             1.0         Urban           Y  \n",
              "4             1.0         Urban           Y  "
            ]
          },
          "execution_count": 3,
          "metadata": {},
          "output_type": "execute_result"
        }
      ],
      "source": [
        "df.head()"
      ]
    },
    {
      "cell_type": "code",
      "execution_count": null,
      "id": "a0ae8c83",
      "metadata": {
        "id": "a0ae8c83",
        "outputId": "1004d7d5-dd26-436e-e664-dc0fdd569910"
      },
      "outputs": [
        {
          "name": "stdout",
          "output_type": "stream",
          "text": [
            "<class 'pandas.core.frame.DataFrame'>\n",
            "RangeIndex: 614 entries, 0 to 613\n",
            "Data columns (total 13 columns):\n",
            " #   Column             Non-Null Count  Dtype  \n",
            "---  ------             --------------  -----  \n",
            " 0   Loan_ID            614 non-null    object \n",
            " 1   Gender             601 non-null    object \n",
            " 2   Married            611 non-null    object \n",
            " 3   Dependents         599 non-null    object \n",
            " 4   Education          614 non-null    object \n",
            " 5   Self_Employed      582 non-null    object \n",
            " 6   ApplicantIncome    614 non-null    int64  \n",
            " 7   CoapplicantIncome  614 non-null    float64\n",
            " 8   LoanAmount         592 non-null    float64\n",
            " 9   Loan_Amount_Term   600 non-null    float64\n",
            " 10  Credit_History     564 non-null    float64\n",
            " 11  Property_Area      614 non-null    object \n",
            " 12  Loan_Status        614 non-null    object \n",
            "dtypes: float64(4), int64(1), object(8)\n",
            "memory usage: 62.5+ KB\n"
          ]
        }
      ],
      "source": [
        "df.info()"
      ]
    },
    {
      "cell_type": "code",
      "execution_count": null,
      "id": "5ae8dfa9",
      "metadata": {
        "id": "5ae8dfa9",
        "outputId": "f3104fd1-37df-4d66-d91e-d282056b9ed8"
      },
      "outputs": [
        {
          "data": {
            "text/plain": [
              "(614, 13)"
            ]
          },
          "execution_count": 5,
          "metadata": {},
          "output_type": "execute_result"
        }
      ],
      "source": [
        "df.shape"
      ]
    },
    {
      "cell_type": "code",
      "execution_count": null,
      "id": "1aad9f6e",
      "metadata": {
        "id": "1aad9f6e",
        "outputId": "a07e7cef-635b-4353-c71f-8a94ea2b210b"
      },
      "outputs": [
        {
          "data": {
            "text/plain": [
              "Loan_ID               0\n",
              "Gender               13\n",
              "Married               3\n",
              "Dependents           15\n",
              "Education             0\n",
              "Self_Employed        32\n",
              "ApplicantIncome       0\n",
              "CoapplicantIncome     0\n",
              "LoanAmount           22\n",
              "Loan_Amount_Term     14\n",
              "Credit_History       50\n",
              "Property_Area         0\n",
              "Loan_Status           0\n",
              "dtype: int64"
            ]
          },
          "execution_count": 6,
          "metadata": {},
          "output_type": "execute_result"
        }
      ],
      "source": [
        "df.isnull().sum()"
      ]
    },
    {
      "cell_type": "code",
      "execution_count": null,
      "id": "90deb617",
      "metadata": {
        "id": "90deb617",
        "outputId": "758f007a-7959-4c68-97fc-a49b460767a7"
      },
      "outputs": [
        {
          "data": {
            "text/plain": [
              "<Axes: >"
            ]
          },
          "execution_count": 7,
          "metadata": {},
          "output_type": "execute_result"
        },
        {
          "data": {
            "image/png": "[encoded data removed]",
            "text/plain": [
              "<Figure size 640x480 with 1 Axes>"
            ]
          },
          "metadata": {},
          "output_type": "display_data"
        }
      ],
      "source": [
        "df['loanAmount_log']= np.log(df[ 'LoanAmount'])\n",
        "\n",
        "df[\"loanAmount_log\"].hist(bins=20)"
      ]
    },
    {
      "cell_type": "code",
      "execution_count": null,
      "id": "aeaecf57",
      "metadata": {
        "id": "aeaecf57"
      },
      "outputs": [],
      "source": [
        "X = df.drop(columns=['Loan_Status'])  # Features\n",
        "y = df['Loan_Status']  # Target variable"
      ]
    },
    {
      "cell_type": "code",
      "execution_count": null,
      "id": "ee42275c",
      "metadata": {
        "id": "ee42275c",
        "outputId": "ef57cf2c-3728-473b-8ec8-6d8c5d18cdf2"
      },
      "outputs": [
        {
          "data": {
            "text/plain": [
              "Loan_ID               0\n",
              "Gender               13\n",
              "Married               3\n",
              "Dependents           15\n",
              "Education             0\n",
              "Self_Employed        32\n",
              "ApplicantIncome       0\n",
              "CoapplicantIncome     0\n",
              "LoanAmount           22\n",
              "Loan_Amount_Term     14\n",
              "Credit_History       50\n",
              "Property_Area         0\n",
              "Loan_Status           0\n",
              "loanAmount_log       22\n",
              "dtype: int64"
            ]
          },
          "execution_count": 9,
          "metadata": {},
          "output_type": "execute_result"
        }
      ],
      "source": [
        "df.isnull().sum()"
      ]
    },
    {
      "cell_type": "code",
      "execution_count": null,
      "id": "7e2d2df2",
      "metadata": {
        "id": "7e2d2df2",
        "outputId": "145f542a-ee06-49a1-fd5e-9e33b193a707"
      },
      "outputs": [
        {
          "data": {
            "text/plain": [
              "<Axes: >"
            ]
          },
          "execution_count": 10,
          "metadata": {},
          "output_type": "execute_result"
        },
        {
          "data": {
            "image/png": "[encoded data removed]",
            "text/plain": [
              "<Figure size 640x480 with 1 Axes>"
            ]
          },
          "metadata": {},
          "output_type": "display_data"
        }
      ],
      "source": [
        "df['TotalIncome']= df['ApplicantIncome'] + df['CoapplicantIncome']\n",
        "\n",
        "df['TotalIncome_log']= np.log(df['TotalIncome'])\n",
        "\n",
        "df['TotalIncome_log'].hist(bins=20)"
      ]
    },
    {
      "cell_type": "code",
      "execution_count": null,
      "id": "cb9bb9f5",
      "metadata": {
        "id": "cb9bb9f5",
        "outputId": "dfa7316e-f497-4f18-fcb2-e4aeecaf7fdc"
      },
      "outputs": [
        {
          "name": "stdout",
          "output_type": "stream",
          "text": [
            "Loan_ID              0\n",
            "Gender               0\n",
            "Married              0\n",
            "Dependents           0\n",
            "Education            0\n",
            "Self_Employed        0\n",
            "ApplicantIncome      0\n",
            "CoapplicantIncome    0\n",
            "LoanAmount           0\n",
            "Loan_Amount_Term     0\n",
            "Credit_History       0\n",
            "Property_Area        0\n",
            "Loan_Status          0\n",
            "loanAmount_log       0\n",
            "TotalIncome          0\n",
            "TotalIncome_log      0\n",
            "dtype: int64\n"
          ]
        }
      ],
      "source": [
        "df['Gender'].fillna(df['Gender'].mode()[0], inplace=True)\n",
        "df['Married'].fillna(df['Married'].mode()[0], inplace=True)\n",
        "df['Self_Employed'].fillna(df['Self_Employed'].mode()[0], inplace=True)\n",
        "df['Dependents'].fillna(df['Dependents'].mode()[0], inplace=True)\n",
        "df['LoanAmount'] = df['LoanAmount'].fillna(df['LoanAmount'].mean())\n",
        "df['loanAmount_log'] = df['loanAmount_log'].fillna(df['loanAmount_log'].mean())\n",
        "df['Loan_Amount_Term'].fillna(df['Loan_Amount_Term'].mode()[0], inplace=True)\n",
        "df['Credit_History'].fillna(df['Credit_History'].mode()[0], inplace=True)\n",
        "\n",
        "\n",
        "print(df.isnull().sum())\n"
      ]
    },
    {
      "cell_type": "code",
      "execution_count": null,
      "id": "290a9040",
      "metadata": {
        "id": "290a9040"
      },
      "outputs": [],
      "source": [
        "x =df.iloc[:, np.r_[1:5,9:11,13:15]].values\n",
        "y= df.iloc[:,12].values"
      ]
    },
    {
      "cell_type": "code",
      "execution_count": null,
      "id": "64c92b50",
      "metadata": {
        "id": "64c92b50",
        "outputId": "043cd86f-b8f8-4cd8-ccd5-06bfe7bc857a"
      },
      "outputs": [
        {
          "data": {
            "text/plain": [
              "(array([['Male', 'No', '0', ..., 1.0, 4.857444178729352, 5849.0],\n",
              "        ['Male', 'Yes', '1', ..., 1.0, 4.852030263919617, 6091.0],\n",
              "        ['Male', 'Yes', '0', ..., 1.0, 4.189654742026425, 3000.0],\n",
              "        ...,\n",
              "        ['Male', 'Yes', '1', ..., 1.0, 5.53338948872752, 8312.0],\n",
              "        ['Male', 'Yes', '2', ..., 1.0, 5.231108616854587, 7583.0],\n",
              "        ['Female', 'No', '0', ..., 0.0, 4.890349128221754, 4583.0]],\n",
              "       dtype=object),\n",
              " array(['Y', 'N', 'Y', 'Y', 'Y', 'Y', 'Y', 'N', 'Y', 'N', 'Y', 'Y', 'Y',\n",
              "        'N', 'Y', 'Y', 'Y', 'N', 'N', 'Y', 'N', 'Y', 'N', 'N', 'N', 'Y',\n",
              "        'Y', 'Y', 'N', 'Y', 'N', 'N', 'N', 'Y', 'N', 'Y', 'N', 'Y', 'Y',\n",
              "        'Y', 'N', 'Y', 'Y', 'Y', 'Y', 'Y', 'Y', 'Y', 'N', 'Y', 'Y', 'Y',\n",
              "        'N', 'N', 'N', 'Y', 'Y', 'N', 'Y', 'Y', 'Y', 'Y', 'N', 'N', 'N',\n",
              "        'N', 'N', 'Y', 'Y', 'N', 'Y', 'Y', 'Y', 'N', 'Y', 'N', 'N', 'N',\n",
              "        'N', 'Y', 'Y', 'Y', 'N', 'N', 'Y', 'Y', 'Y', 'Y', 'Y', 'Y', 'Y',\n",
              "        'Y', 'Y', 'Y', 'Y', 'N', 'Y', 'Y', 'Y', 'Y', 'Y', 'Y', 'Y', 'Y',\n",
              "        'Y', 'Y', 'Y', 'N', 'N', 'Y', 'Y', 'Y', 'N', 'Y', 'Y', 'Y', 'Y',\n",
              "        'Y', 'N', 'Y', 'Y', 'Y', 'Y', 'Y', 'Y', 'Y', 'Y', 'Y', 'N', 'N',\n",
              "        'Y', 'Y', 'Y', 'Y', 'Y', 'N', 'N', 'Y', 'N', 'N', 'N', 'Y', 'Y',\n",
              "        'Y', 'Y', 'Y', 'Y', 'Y', 'N', 'Y', 'N', 'Y', 'N', 'N', 'Y', 'Y',\n",
              "        'Y', 'Y', 'Y', 'Y', 'Y', 'N', 'N', 'Y', 'Y', 'Y', 'N', 'Y', 'N',\n",
              "        'Y', 'Y', 'Y', 'N', 'Y', 'N', 'Y', 'Y', 'N', 'Y', 'N', 'N', 'N',\n",
              "        'Y', 'N', 'Y', 'Y', 'N', 'Y', 'Y', 'Y', 'Y', 'N', 'N', 'Y', 'Y',\n",
              "        'N', 'Y', 'Y', 'Y', 'N', 'Y', 'Y', 'N', 'Y', 'Y', 'Y', 'Y', 'Y',\n",
              "        'Y', 'N', 'N', 'N', 'Y', 'Y', 'Y', 'Y', 'N', 'Y', 'N', 'Y', 'N',\n",
              "        'Y', 'Y', 'Y', 'Y', 'N', 'N', 'Y', 'Y', 'Y', 'Y', 'Y', 'Y', 'Y',\n",
              "        'Y', 'Y', 'N', 'Y', 'Y', 'Y', 'Y', 'N', 'Y', 'Y', 'Y', 'N', 'Y',\n",
              "        'Y', 'Y', 'Y', 'N', 'N', 'Y', 'Y', 'N', 'Y', 'N', 'N', 'N', 'N',\n",
              "        'Y', 'Y', 'N', 'Y', 'Y', 'Y', 'Y', 'Y', 'N', 'Y', 'Y', 'Y', 'Y',\n",
              "        'Y', 'Y', 'Y', 'Y', 'Y', 'Y', 'Y', 'N', 'Y', 'Y', 'Y', 'N', 'Y',\n",
              "        'N', 'Y', 'Y', 'Y', 'Y', 'N', 'Y', 'N', 'Y', 'Y', 'Y', 'Y', 'N',\n",
              "        'N', 'N', 'Y', 'Y', 'Y', 'Y', 'N', 'Y', 'N', 'N', 'Y', 'Y', 'Y',\n",
              "        'Y', 'Y', 'N', 'Y', 'Y', 'Y', 'Y', 'N', 'Y', 'Y', 'Y', 'Y', 'Y',\n",
              "        'N', 'Y', 'Y', 'N', 'Y', 'Y', 'Y', 'Y', 'Y', 'Y', 'Y', 'Y', 'Y',\n",
              "        'N', 'Y', 'N', 'N', 'Y', 'Y', 'Y', 'Y', 'N', 'Y', 'Y', 'Y', 'Y',\n",
              "        'N', 'Y', 'N', 'Y', 'Y', 'Y', 'N', 'N', 'Y', 'N', 'Y', 'Y', 'Y',\n",
              "        'Y', 'N', 'N', 'N', 'Y', 'N', 'Y', 'Y', 'Y', 'N', 'Y', 'Y', 'Y',\n",
              "        'Y', 'N', 'Y', 'Y', 'Y', 'Y', 'Y', 'N', 'Y', 'Y', 'N', 'Y', 'Y',\n",
              "        'Y', 'Y', 'Y', 'Y', 'Y', 'Y', 'N', 'Y', 'Y', 'N', 'N', 'N', 'Y',\n",
              "        'Y', 'N', 'Y', 'Y', 'Y', 'N', 'N', 'N', 'Y', 'N', 'Y', 'N', 'Y',\n",
              "        'N', 'N', 'Y', 'Y', 'Y', 'N', 'Y', 'N', 'Y', 'Y', 'N', 'Y', 'Y',\n",
              "        'Y', 'Y', 'N', 'Y', 'Y', 'Y', 'Y', 'Y', 'Y', 'N', 'Y', 'Y', 'Y',\n",
              "        'Y', 'Y', 'Y', 'Y', 'Y', 'N', 'N', 'N', 'N', 'Y', 'N', 'Y', 'Y',\n",
              "        'Y', 'Y', 'N', 'Y', 'N', 'Y', 'Y', 'Y', 'Y', 'N', 'Y', 'N', 'Y',\n",
              "        'Y', 'N', 'Y', 'N', 'Y', 'Y', 'Y', 'Y', 'Y', 'N', 'Y', 'N', 'Y',\n",
              "        'Y', 'Y', 'Y', 'Y', 'Y', 'N', 'N', 'Y', 'N', 'Y', 'Y', 'Y', 'Y',\n",
              "        'N', 'Y', 'Y', 'Y', 'Y', 'N', 'Y', 'Y', 'Y', 'N', 'Y', 'Y', 'Y',\n",
              "        'N', 'Y', 'Y', 'N', 'Y', 'Y', 'N', 'N', 'Y', 'Y', 'N', 'N', 'N',\n",
              "        'Y', 'Y', 'Y', 'Y', 'N', 'Y', 'Y', 'Y', 'Y', 'Y', 'Y', 'Y', 'N',\n",
              "        'N', 'Y', 'Y', 'Y', 'Y', 'N', 'Y', 'Y', 'N', 'Y', 'Y', 'Y', 'Y',\n",
              "        'N', 'Y', 'N', 'Y', 'N', 'Y', 'Y', 'N', 'N', 'Y', 'Y', 'Y', 'Y',\n",
              "        'Y', 'Y', 'Y', 'Y', 'Y', 'N', 'Y', 'Y', 'N', 'N', 'N', 'Y', 'N',\n",
              "        'Y', 'N', 'N', 'Y', 'N', 'Y', 'Y', 'Y', 'Y', 'N', 'Y', 'N', 'N',\n",
              "        'N', 'Y', 'Y', 'Y', 'N', 'Y', 'N', 'Y', 'Y', 'Y', 'Y', 'N', 'N',\n",
              "        'Y', 'Y', 'N', 'Y', 'Y', 'Y', 'Y', 'N', 'Y', 'Y', 'Y', 'Y', 'Y',\n",
              "        'Y', 'Y', 'N'], dtype=object))"
            ]
          },
          "execution_count": 13,
          "metadata": {},
          "output_type": "execute_result"
        }
      ],
      "source": [
        "x,y"
      ]
    },
    {
      "cell_type": "code",
      "execution_count": null,
      "id": "5495b6ac",
      "metadata": {
        "id": "5495b6ac",
        "outputId": "77fdaef7-257e-4003-a1d8-ef1a68e5b854"
      },
      "outputs": [
        {
          "name": "stdout",
          "output_type": "stream",
          "text": [
            "number of people who take loan as group by gender:\n",
            "Male      502\n",
            "Female    112\n",
            "Name: Gender, dtype: int64\n"
          ]
        },
        {
          "data": {
            "text/plain": [
              "<Axes: xlabel='Gender', ylabel='count'>"
            ]
          },
          "execution_count": 14,
          "metadata": {},
          "output_type": "execute_result"
        },
        {
          "data": {
            "image/png": "[encoded data removed]",
            "text/plain": [
              "<Figure size 640x480 with 1 Axes>"
            ]
          },
          "metadata": {},
          "output_type": "display_data"
        }
      ],
      "source": [
        "print(\"number of people who take loan as group by gender:\")\n",
        "print(df['Gender'].value_counts())\n",
        "sns.countplot(x=\"Gender\", data=df, palette = 'Set1')"
      ]
    },
    {
      "cell_type": "code",
      "execution_count": null,
      "id": "4ecb2e57",
      "metadata": {
        "id": "4ecb2e57",
        "outputId": "1c3bd3f2-d1e4-4b7f-d67a-31f30f23b051"
      },
      "outputs": [
        {
          "name": "stdout",
          "output_type": "stream",
          "text": [
            "Number of people who take loan as grouped by dependents:\n",
            "0     360\n",
            "1     102\n",
            "2     101\n",
            "3+     51\n",
            "Name: Dependents, dtype: int64\n"
          ]
        },
        {
          "data": {
            "image/png": "[encoded data removed]",
            "text/plain": [
              "<Figure size 800x600 with 1 Axes>"
            ]
          },
          "metadata": {},
          "output_type": "display_data"
        }
      ],
      "source": [
        "print(\"Number of people who take loan as grouped by dependents:\")\n",
        "print(df['Dependents'].value_counts())\n",
        "plt.figure(figsize=(8, 6))\n",
        "sns.countplot(x='Dependents', data=df, palette='Set1')\n",
        "plt.title('Number of People Taking Loan Grouped by Dependents')\n",
        "plt.xlabel('Dependents')\n",
        "plt.ylabel('Count')\n",
        "plt.show()"
      ]
    },
    {
      "cell_type": "code",
      "execution_count": null,
      "id": "5f730d85",
      "metadata": {
        "id": "5f730d85",
        "outputId": "134cdc70-71f8-401b-b014-6334fc3f2f9a"
      },
      "outputs": [
        {
          "name": "stdout",
          "output_type": "stream",
          "text": [
            "Number of people who take loan as grouped by self employed:\n",
            "No     532\n",
            "Yes     82\n",
            "Name: Self_Employed, dtype: int64\n"
          ]
        },
        {
          "data": {
            "image/png": "[encoded data removed]",
            "text/plain": [
              "<Figure size 800x600 with 1 Axes>"
            ]
          },
          "metadata": {},
          "output_type": "display_data"
        }
      ],
      "source": [
        "print(\"Number of people who take loan as grouped by self employed:\")\n",
        "print(df['Self_Employed'].value_counts())\n",
        "plt.figure(figsize=(8, 6))\n",
        "sns.countplot(x='Self_Employed', data=df, palette='Set1')\n",
        "plt.title('Number of People Taking Loan Grouped by Self Employed')\n",
        "plt.xlabel('Self Employed')\n",
        "plt.ylabel('Count')\n",
        "plt.show()"
      ]
    },
    {
      "cell_type": "code",
      "execution_count": null,
      "id": "d85ff986",
      "metadata": {
        "id": "d85ff986",
        "outputId": "65447d36-fc2f-4189-9292-3c6224446cc8"
      },
      "outputs": [
        {
          "name": "stdout",
          "output_type": "stream",
          "text": [
            "number of people who take loan as group by loanamount:\n",
            "146.412162    22\n",
            "120.000000    20\n",
            "110.000000    17\n",
            "100.000000    15\n",
            "160.000000    12\n",
            "              ..\n",
            "240.000000     1\n",
            "214.000000     1\n",
            "59.000000      1\n",
            "166.000000     1\n",
            "253.000000     1\n",
            "Name: LoanAmount, Length: 204, dtype: int64\n"
          ]
        },
        {
          "data": {
            "text/plain": [
              "<Axes: xlabel='LoanAmount', ylabel='count'>"
            ]
          },
          "execution_count": 17,
          "metadata": {},
          "output_type": "execute_result"
        },
        {
          "data": {
            "image/png": "[encoded data removed]",
            "text/plain": [
              "<Figure size 640x480 with 1 Axes>"
            ]
          },
          "metadata": {},
          "output_type": "display_data"
        }
      ],
      "source": [
        "print(\"number of people who take loan as group by loanamount:\")\n",
        "print(df['LoanAmount'].value_counts())\n",
        "sns.countplot(x='LoanAmount',data =df,palette='Set1')"
      ]
    },
    {
      "cell_type": "code",
      "execution_count": null,
      "id": "71c04815",
      "metadata": {
        "id": "71c04815",
        "outputId": "77293d5c-1fba-4b7d-b82f-1ff7f2ea480c"
      },
      "outputs": [
        {
          "name": "stdout",
          "output_type": "stream",
          "text": [
            "numbber of people who take loan as group by Credit history:\n",
            "1.0    525\n",
            "0.0     89\n",
            "Name: Credit_History, dtype: int64\n"
          ]
        },
        {
          "data": {
            "text/plain": [
              "<Axes: xlabel='Credit_History', ylabel='count'>"
            ]
          },
          "execution_count": 18,
          "metadata": {},
          "output_type": "execute_result"
        },
        {
          "data": {
            "image/png": "[encoded data removed]",
            "text/plain": [
              "<Figure size 640x480 with 1 Axes>"
            ]
          },
          "metadata": {},
          "output_type": "display_data"
        }
      ],
      "source": [
        "print(\"numbber of people who take loan as group by Credit history:\")\n",
        "print(df['Credit_History'].value_counts())\n",
        "sns.countplot(x='Credit_History',data=df,palette='Set1')"
      ]
    },
    {
      "cell_type": "code",
      "execution_count": null,
      "id": "5bcfd8d1",
      "metadata": {
        "id": "5bcfd8d1"
      },
      "outputs": [],
      "source": [
        "from sklearn.model_selection import train_test_split\n",
        "X_train,X_test,y_train,y_test = train_test_split(x,y,test_size=0.2 ,random_state=0)\n",
        "\n",
        "from sklearn.preprocessing import LabelEncoder\n",
        "Labelencoder_x= LabelEncoder()"
      ]
    },
    {
      "cell_type": "code",
      "execution_count": null,
      "id": "bba8d292",
      "metadata": {
        "id": "bba8d292",
        "outputId": "6e471dc2-0ebb-4b2a-bf74-3df92c7e434e"
      },
      "outputs": [
        {
          "data": {
            "text/plain": [
              "array([['Male', 1, '0', ..., 1.0, 4.875197323201151, 267],\n",
              "       ['Male', 0, '1', ..., 1.0, 5.278114659230517, 407],\n",
              "       ['Male', 1, '0', ..., 0.0, 5.003946305945459, 249],\n",
              "       ...,\n",
              "       ['Male', 1, '3+', ..., 1.0, 5.298317366548036, 363],\n",
              "       ['Male', 1, '0', ..., 1.0, 5.075173815233827, 273],\n",
              "       ['Female', 1, '0', ..., 1.0, 5.204006687076795, 301]], dtype=object)"
            ]
          },
          "execution_count": 20,
          "metadata": {},
          "output_type": "execute_result"
        }
      ],
      "source": [
        "for i in range (0,5):\n",
        "    X_train[:,1]=Labelencoder_x.fit_transform(X_train[:,1])\n",
        "    X_train[:,7]=Labelencoder_x.fit_transform(X_train[:,7])\n",
        "X_train"
      ]
    },
    {
      "cell_type": "code",
      "execution_count": null,
      "id": "a4d7ea61",
      "metadata": {
        "id": "a4d7ea61",
        "outputId": "9223dd38-99f2-4436-b573-c9d90a7d46b4"
      },
      "outputs": [
        {
          "data": {
            "text/plain": [
              "array([1, 0, 0, 1, 1, 0, 1, 1, 1, 0, 0, 1, 1, 1, 1, 1, 1, 1, 1, 0, 1, 1,\n",
              "       0, 1, 1, 0, 0, 1, 1, 1, 0, 1, 1, 1, 1, 1, 0, 1, 0, 1, 0, 1, 1, 1,\n",
              "       1, 0, 0, 0, 1, 1, 1, 0, 1, 1, 1, 1, 1, 1, 1, 1, 0, 1, 0, 1, 1, 0,\n",
              "       1, 1, 1, 1, 1, 0, 0, 1, 1, 0, 1, 0, 0, 1, 0, 0, 1, 1, 1, 1, 1, 1,\n",
              "       1, 1, 0, 1, 0, 1, 0, 1, 1, 1, 1, 0, 0, 1, 1, 1, 0, 1, 1, 0, 0, 0,\n",
              "       1, 1, 1, 0, 1, 0, 0, 1, 0, 0, 0, 1, 1, 1, 1, 1, 0, 0, 0, 0, 1, 1,\n",
              "       0, 1, 1, 1, 1, 1, 1, 0, 0, 1, 1, 1, 1, 1, 0, 1, 1, 1, 1, 1, 1, 1,\n",
              "       1, 1, 1, 0, 1, 1, 1, 1, 1, 1, 1, 1, 1, 1, 1, 0, 0, 1, 1, 1, 1, 0,\n",
              "       0, 1, 0, 1, 0, 0, 0, 1, 0, 1, 1, 1, 1, 1, 0, 0, 1, 0, 1, 1, 1, 1,\n",
              "       0, 0, 1, 1, 1, 1, 1, 0, 0, 1, 1, 1, 1, 0, 1, 1, 1, 1, 0, 0, 1, 1,\n",
              "       0, 1, 1, 1, 0, 1, 1, 1, 0, 1, 0, 1, 0, 1, 1, 0, 0, 0, 1, 0, 1, 1,\n",
              "       1, 1, 1, 0, 1, 1, 1, 1, 1, 1, 0, 1, 0, 1, 0, 1, 1, 1, 1, 1, 1, 1,\n",
              "       1, 1, 0, 0, 1, 0, 1, 1, 1, 0, 1, 1, 0, 1, 0, 1, 0, 1, 1, 1, 1, 1,\n",
              "       1, 1, 1, 1, 0, 1, 1, 0, 1, 1, 1, 0, 0, 1, 1, 1, 1, 0, 1, 0, 1, 1,\n",
              "       1, 1, 1, 0, 1, 0, 1, 0, 0, 1, 1, 0, 1, 1, 0, 1, 1, 0, 0, 1, 1, 1,\n",
              "       1, 1, 1, 0, 1, 1, 1, 0, 1, 0, 0, 0, 0, 1, 1, 1, 1, 0, 0, 1, 1, 1,\n",
              "       1, 0, 1, 0, 1, 1, 1, 1, 1, 0, 1, 1, 1, 1, 1, 1, 1, 0, 1, 0, 0, 0,\n",
              "       1, 1, 0, 1, 1, 1, 1, 0, 1, 1, 0, 1, 0, 0, 0, 1, 1, 1, 1, 1, 1, 1,\n",
              "       1, 0, 1, 0, 1, 1, 1, 0, 1, 1, 1, 0, 0, 1, 1, 1, 1, 0, 1, 1, 1, 1,\n",
              "       1, 1, 0, 1, 0, 1, 0, 1, 1, 0, 0, 1, 1, 0, 1, 1, 1, 1, 1, 1, 1, 0,\n",
              "       1, 1, 0, 0, 1, 0, 1, 1, 1, 1, 1, 1, 1, 0, 0, 1, 0, 0, 0, 0, 0, 1,\n",
              "       1, 1, 1, 1, 1, 0, 1, 0, 1, 0, 0, 1, 1, 1, 0, 1, 1, 0, 0, 0, 0, 1,\n",
              "       1, 1, 1, 0, 1, 0, 1])"
            ]
          },
          "execution_count": 21,
          "metadata": {},
          "output_type": "execute_result"
        }
      ],
      "source": [
        "Labelencoder_y=LabelEncoder()\n",
        "y_train = Labelencoder_y.fit_transform(y_train)\n",
        "y_train"
      ]
    },
    {
      "cell_type": "code",
      "execution_count": null,
      "id": "9e0616de",
      "metadata": {
        "id": "9e0616de",
        "outputId": "f7c7ebd1-89f9-4721-d55f-49a2dd771e36"
      },
      "outputs": [
        {
          "name": "stdout",
          "output_type": "stream",
          "text": [
            "[[1 0 0 0 5 1.0 4.430816798843313 85]\n",
            " [0 0 0 0 5 1.0 4.718498871295094 28]\n",
            " [1 1 0 0 5 1.0 5.780743515792329 104]\n",
            " [1 1 0 0 5 1.0 4.700480365792417 80]\n",
            " [1 1 2 0 5 1.0 4.574710978503383 22]\n",
            " [1 1 0 1 3 0.0 5.10594547390058 70]\n",
            " [1 1 3 0 3 1.0 5.056245805348308 77]\n",
            " [1 0 0 0 5 1.0 6.003887067106539 114]\n",
            " [1 0 0 0 5 0.0 4.820281565605037 53]\n",
            " [1 1 0 0 5 1.0 4.852030263919617 55]\n",
            " [0 0 0 0 5 1.0 4.430816798843313 4]\n",
            " [1 1 1 0 5 1.0 4.553876891600541 2]\n",
            " [0 0 0 0 5 1.0 5.634789603169249 96]\n",
            " [1 1 2 0 5 1.0 5.4638318050256105 97]\n",
            " [1 1 0 0 5 1.0 4.564348191467836 117]\n",
            " [1 1 1 0 5 1.0 4.204692619390966 22]\n",
            " [1 0 1 1 5 1.0 5.247024072160486 32]\n",
            " [1 0 0 1 5 1.0 4.882801922586371 25]\n",
            " [0 0 0 0 5 1.0 4.532599493153256 1]\n",
            " [1 1 0 1 5 0.0 5.198497031265826 44]\n",
            " [0 1 0 0 5 0.0 4.787491742782046 71]\n",
            " [1 1 0 0 5 1.0 4.962844630259907 43]\n",
            " [1 1 2 0 5 1.0 4.68213122712422 91]\n",
            " [1 1 2 0 5 1.0 5.10594547390058 111]\n",
            " [1 1 0 0 5 1.0 4.060443010546419 35]\n",
            " [1 1 1 0 5 1.0 5.521460917862246 94]\n",
            " [1 0 0 0 5 1.0 5.231108616854587 98]\n",
            " [1 1 0 0 5 1.0 5.231108616854587 110]\n",
            " [1 1 3 0 5 0.0 4.852030263919617 41]\n",
            " [0 0 0 0 5 0.0 4.634728988229636 50]\n",
            " [1 1 0 0 5 1.0 5.429345628954441 99]\n",
            " [1 0 0 1 5 1.0 3.871201010907891 46]\n",
            " [1 1 1 1 5 1.0 4.499809670330265 52]\n",
            " [1 1 0 0 5 1.0 5.19295685089021 102]\n",
            " [1 1 0 0 5 1.0 4.857444178729352 95]\n",
            " [0 1 0 1 5 0.0 5.181783550292085 57]\n",
            " [1 1 0 0 5 1.0 5.147494476813453 65]\n",
            " [1 0 0 1 5 1.0 4.836281906951478 39]\n",
            " [1 1 0 0 5 1.0 4.852030263919617 75]\n",
            " [1 1 2 1 5 1.0 4.68213122712422 24]\n",
            " [0 0 0 0 5 1.0 4.382026634673881 9]\n",
            " [1 1 3 0 5 0.0 4.812184355372417 68]\n",
            " [1 1 2 0 2 1.0 2.833213344056216 0]\n",
            " [1 1 1 1 5 1.0 5.062595033026967 67]\n",
            " [1 0 0 0 5 1.0 4.330733340286331 21]\n",
            " [1 0 0 0 5 1.0 5.231108616854587 113]\n",
            " [1 1 1 0 5 1.0 4.7535901911063645 18]\n",
            " [0 0 0 0 5 1.0 4.74493212836325 37]\n",
            " [1 1 1 0 5 1.0 4.852030263919617 72]\n",
            " [1 0 0 0 5 1.0 4.941642422609304 78]\n",
            " [1 1 3 1 5 1.0 4.30406509320417 8]\n",
            " [1 1 0 0 5 1.0 4.867534450455582 84]\n",
            " [1 1 0 1 5 1.0 4.672828834461906 31]\n",
            " [1 0 0 0 5 1.0 4.857444178729352 61]\n",
            " [1 1 0 0 5 1.0 4.718498871295094 19]\n",
            " [1 1 0 0 5 1.0 5.556828061699537 107]\n",
            " [1 1 0 0 5 1.0 4.553876891600541 34]\n",
            " [1 0 0 1 5 1.0 4.890349128221754 74]\n",
            " [1 1 2 0 5 1.0 5.123963979403259 62]\n",
            " [1 0 0 0 5 1.0 4.787491742782046 27]\n",
            " [0 0 0 0 5 0.0 4.919980925828125 108]\n",
            " [0 0 0 0 5 1.0 5.365976015021851 103]\n",
            " [1 1 0 1 5 1.0 4.74493212836325 38]\n",
            " [0 0 0 0 5 0.0 4.330733340286331 13]\n",
            " [1 1 2 0 5 1.0 4.890349128221754 69]\n",
            " [1 1 1 0 5 1.0 5.752572638825633 112]\n",
            " [1 1 0 0 5 1.0 5.075173815233827 73]\n",
            " [1 0 0 0 5 1.0 4.912654885736052 47]\n",
            " [1 1 0 0 5 1.0 5.204006687076795 81]\n",
            " [1 0 0 1 5 1.0 4.564348191467836 60]\n",
            " [1 0 0 0 5 1.0 4.204692619390966 83]\n",
            " [0 1 0 0 5 1.0 4.867534450455582 5]\n",
            " [1 1 2 1 5 1.0 5.056245805348308 58]\n",
            " [1 1 1 1 3 1.0 4.919980925828125 79]\n",
            " [0 1 0 0 5 1.0 4.969813299576001 54]\n",
            " [1 1 0 1 4 1.0 4.820281565605037 56]\n",
            " [1 0 0 0 5 1.0 4.499809670330265 120]\n",
            " [1 0 3 0 5 1.0 5.768320995793772 118]\n",
            " [1 1 2 0 5 1.0 4.718498871295094 101]\n",
            " [0 0 0 0 5 0.0 4.7535901911063645 26]\n",
            " [0 0 0 0 6 1.0 4.727387818712341 33]\n",
            " [1 1 1 0 5 1.0 6.214608098422191 119]\n",
            " [0 0 0 0 5 1.0 5.267858159063328 89]\n",
            " [1 1 2 0 5 1.0 5.231108616854587 92]\n",
            " [1 0 0 0 6 1.0 4.2626798770413155 6]\n",
            " [1 1 0 0 0 1.0 4.709530201312334 90]\n",
            " [1 1 0 0 5 1.0 4.700480365792417 45]\n",
            " [1 1 2 0 5 1.0 5.298317366548036 109]\n",
            " [1 0 1 0 3 1.0 4.727387818712341 17]\n",
            " [1 1 1 0 5 1.0 4.6443908991413725 36]\n",
            " [0 1 0 1 5 1.0 4.605170185988092 16]\n",
            " [1 0 0 0 5 1.0 4.30406509320417 7]\n",
            " [1 1 1 0 1 1.0 5.147494476813453 88]\n",
            " [1 1 3 0 4 0.0 5.19295685089021 87]\n",
            " [0 0 0 0 5 1.0 4.2626798770413155 3]\n",
            " [1 0 0 1 3 0.0 4.836281906951478 59]\n",
            " [1 0 0 0 3 1.0 5.1647859739235145 82]\n",
            " [1 0 0 0 5 1.0 4.969813299576001 66]\n",
            " [1 1 2 1 5 1.0 4.394449154672439 51]\n",
            " [1 1 1 0 5 1.0 5.231108616854587 100]\n",
            " [1 1 0 0 5 1.0 5.351858133476067 93]\n",
            " [1 1 0 0 5 1.0 4.605170185988092 15]\n",
            " [1 1 2 0 5 1.0 4.787491742782046 106]\n",
            " [1 0 0 0 3 1.0 4.787491742782046 105]\n",
            " [1 1 3 0 5 1.0 4.852030263919617 64]\n",
            " [1 0 0 0 5 1.0 4.8283137373023015 49]\n",
            " [1 0 0 1 5 1.0 4.6443908991413725 42]\n",
            " [0 0 0 0 5 1.0 4.477336814478207 10]\n",
            " [1 1 0 1 5 1.0 4.553876891600541 20]\n",
            " [1 1 3 1 3 1.0 4.394449154672439 14]\n",
            " [1 0 0 0 5 1.0 5.298317366548036 76]\n",
            " [0 0 0 0 5 1.0 4.90527477843843 11]\n",
            " [1 0 0 0 6 1.0 4.727387818712341 18]\n",
            " [1 1 2 0 5 1.0 4.248495242049359 23]\n",
            " [1 1 0 1 5 0.0 5.303304908059076 63]\n",
            " [1 1 0 0 3 0.0 4.499809670330265 48]\n",
            " [0 0 0 0 5 1.0 4.430816798843313 30]\n",
            " [1 0 0 0 5 1.0 4.897839799950911 29]\n",
            " [1 1 2 0 5 1.0 5.170483995038151 86]\n",
            " [1 1 3 0 5 1.0 4.867534450455582 115]\n",
            " [1 1 0 0 5 1.0 6.077642243349034 116]\n",
            " [1 1 3 1 3 0.0 4.248495242049359 40]\n",
            " [1 1 1 0 5 1.0 4.564348191467836 12]]\n"
          ]
        }
      ],
      "source": [
        "for i in range(0, 5):\n",
        "    X_test[:, i] = Labelencoder_x.fit_transform(X_test[:, i])\n",
        "X_test[:, 7] = Labelencoder_x.fit_transform(X_test[:, 7])\n",
        "\n",
        "print(X_test)"
      ]
    },
    {
      "cell_type": "code",
      "execution_count": null,
      "id": "9d804485",
      "metadata": {
        "id": "9d804485",
        "outputId": "edf257af-9fa0-42f7-f55b-e51de4a7ef9d"
      },
      "outputs": [
        {
          "name": "stderr",
          "output_type": "stream",
          "text": [
            "C:\\Users\\Anu\\anaconda3\\lib\\site-packages\\sklearn\\linear_model\\_logistic.py:458: ConvergenceWarning: lbfgs failed to converge (status=1):\n",
            "STOP: TOTAL NO. of ITERATIONS REACHED LIMIT.\n",
            "\n",
            "Increase the number of iterations (max_iter) or scale the data as shown in:\n",
            "    https://scikit-learn.org/stable/modules/preprocessing.html\n",
            "Please also refer to the documentation for alternative solver options:\n",
            "    https://scikit-learn.org/stable/modules/linear_model.html#logistic-regression\n",
            "  n_iter_i = _check_optimize_result(\n"
          ]
        },
        {
          "data": {
            "text/html": [
              "<style>#sk-container-id-1 {color: black;background-color: white;}#sk-container-id-1 pre{padding: 0;}#sk-container-id-1 div.sk-toggleable {background-color: white;}#sk-container-id-1 label.sk-toggleable__label {cursor: pointer;display: block;width: 100%;margin-bottom: 0;padding: 0.3em;box-sizing: border-box;text-align: center;}#sk-container-id-1 label.sk-toggleable__label-arrow:before {content: \"▸\";float: left;margin-right: 0.25em;color: #696969;}#sk-container-id-1 label.sk-toggleable__label-arrow:hover:before {color: black;}#sk-container-id-1 div.sk-estimator:hover label.sk-toggleable__label-arrow:before {color: black;}#sk-container-id-1 div.sk-toggleable__content {max-height: 0;max-width: 0;overflow: hidden;text-align: left;background-color: #f0f8ff;}#sk-container-id-1 div.sk-toggleable__content pre {margin: 0.2em;color: black;border-radius: 0.25em;background-color: #f0f8ff;}#sk-container-id-1 input.sk-toggleable__control:checked~div.sk-toggleable__content {max-height: 200px;max-width: 100%;overflow: auto;}#sk-container-id-1 input.sk-toggleable__control:checked~label.sk-toggleable__label-arrow:before {content: \"▾\";}#sk-container-id-1 div.sk-estimator input.sk-toggleable__control:checked~label.sk-toggleable__label {background-color: #d4ebff;}#sk-container-id-1 div.sk-label input.sk-toggleable__control:checked~label.sk-toggleable__label {background-color: #d4ebff;}#sk-container-id-1 input.sk-hidden--visually {border: 0;clip: rect(1px 1px 1px 1px);clip: rect(1px, 1px, 1px, 1px);height: 1px;margin: -1px;overflow: hidden;padding: 0;position: absolute;width: 1px;}#sk-container-id-1 div.sk-estimator {font-family: monospace;background-color: #f0f8ff;border: 1px dotted black;border-radius: 0.25em;box-sizing: border-box;margin-bottom: 0.5em;}#sk-container-id-1 div.sk-estimator:hover {background-color: #d4ebff;}#sk-container-id-1 div.sk-parallel-item::after {content: \"\";width: 100%;border-bottom: 1px solid gray;flex-grow: 1;}#sk-container-id-1 div.sk-label:hover label.sk-toggleable__label {background-color: #d4ebff;}#sk-container-id-1 div.sk-serial::before {content: \"\";position: absolute;border-left: 1px solid gray;box-sizing: border-box;top: 0;bottom: 0;left: 50%;z-index: 0;}#sk-container-id-1 div.sk-serial {display: flex;flex-direction: column;align-items: center;background-color: white;padding-right: 0.2em;padding-left: 0.2em;position: relative;}#sk-container-id-1 div.sk-item {position: relative;z-index: 1;}#sk-container-id-1 div.sk-parallel {display: flex;align-items: stretch;justify-content: center;background-color: white;position: relative;}#sk-container-id-1 div.sk-item::before, #sk-container-id-1 div.sk-parallel-item::before {content: \"\";position: absolute;border-left: 1px solid gray;box-sizing: border-box;top: 0;bottom: 0;left: 50%;z-index: -1;}#sk-container-id-1 div.sk-parallel-item {display: flex;flex-direction: column;z-index: 1;position: relative;background-color: white;}#sk-container-id-1 div.sk-parallel-item:first-child::after {align-self: flex-end;width: 50%;}#sk-container-id-1 div.sk-parallel-item:last-child::after {align-self: flex-start;width: 50%;}#sk-container-id-1 div.sk-parallel-item:only-child::after {width: 0;}#sk-container-id-1 div.sk-dashed-wrapped {border: 1px dashed gray;margin: 0 0.4em 0.5em 0.4em;box-sizing: border-box;padding-bottom: 0.4em;background-color: white;}#sk-container-id-1 div.sk-label label {font-family: monospace;font-weight: bold;display: inline-block;line-height: 1.2em;}#sk-container-id-1 div.sk-label-container {text-align: center;}#sk-container-id-1 div.sk-container {/* jupyter's `normalize.less` sets `[hidden] { display: none; }` but bootstrap.min.css set `[hidden] { display: none !important; }` so we also need the `!important` here to be able to override the default hidden behavior on the sphinx rendered scikit-learn.org. See: https://github.com/scikit-learn/scikit-learn/issues/21755 */display: inline-block !important;position: relative;}#sk-container-id-1 div.sk-text-repr-fallback {display: none;}</style><div id=\"sk-container-id-1\" class=\"sk-top-container\"><div class=\"sk-text-repr-fallback\"><pre>LogisticRegression()</pre><b>In a Jupyter environment, please rerun this cell to show the HTML representation or trust the notebook. <br />On GitHub, the HTML representation is unable to render, please try loading this page with nbviewer.org.</b></div><div class=\"sk-container\" hidden><div class=\"sk-item\"><div class=\"sk-estimator sk-toggleable\"><input class=\"sk-toggleable__control sk-hidden--visually\" id=\"sk-estimator-id-1\" type=\"checkbox\" checked><label for=\"sk-estimator-id-1\" class=\"sk-toggleable__label sk-toggleable__label-arrow\">LogisticRegression</label><div class=\"sk-toggleable__content\"><pre>LogisticRegression()</pre></div></div></div></div></div>"
            ],
            "text/plain": [
              "LogisticRegression()"
            ]
          },
          "execution_count": 32,
          "metadata": {},
          "output_type": "execute_result"
        }
      ],
      "source": [
        "from sklearn.linear_model import LogisticRegression\n",
        "model = LogisticRegression()\n",
        "model.fit(X_train, y_train)"
      ]
    },
    {
      "cell_type": "code",
      "execution_count": null,
      "id": "3f76c387",
      "metadata": {
        "id": "3f76c387",
        "outputId": "35e9b9ba-9a00-42b5-d265-90c869c616aa"
      },
      "outputs": [
        {
          "name": "stdout",
          "output_type": "stream",
          "text": [
            "Accuracy: 0.7886178861788617\n",
            "Classification Report:\n",
            "              precision    recall  f1-score   support\n",
            "\n",
            "           N       0.95      0.42      0.58        43\n",
            "           Y       0.76      0.99      0.86        80\n",
            "\n",
            "    accuracy                           0.79       123\n",
            "   macro avg       0.85      0.70      0.72       123\n",
            "weighted avg       0.83      0.79      0.76       123\n",
            "\n"
          ]
        }
      ],
      "source": [
        "from sklearn.metrics import accuracy_score, classification_report\n",
        "y_pred = model.predict(X_test)\n",
        "accuracy = accuracy_score(y_test, y_pred)\n",
        "print(\"Accuracy:\", accuracy)\n",
        "print(\"Classification Report:\")\n",
        "print(classification_report(y_test, y_pred))\n"
      ]
    },
    {
      "cell_type": "markdown",
      "id": "c1e36467",
      "metadata": {
        "id": "c1e36467"
      },
      "source": [
        "CONCLUSION:\n",
        "The model achieved an accuracy of approximately 78.86%, indicating that it correctly predicted loan approval status\n",
        "(Yes or No) for about 78.86% of the samples in the test dataset."
      ]
    },
    {
      "cell_type": "markdown",
      "id": "97d53397",
      "metadata": {
        "id": "97d53397"
      },
      "source": [
        "Precision for class 'N' (No) is 0.95, which means that when the model predicted a loan as 'No', it was correct 95% of the time. However, the recall for class 'N' is 0.42,indicating that the model correctly identified only 42% of the actual 'No' loans.This suggests that the model is more conservative in predicting 'No' loans but may miss some actual 'No' cases."
      ]
    },
    {
      "cell_type": "markdown",
      "id": "07bcb5be",
      "metadata": {
        "id": "07bcb5be"
      },
      "source": [
        "Precision for class 'Y' (Yes) is 0.76, indicating that the model's accuracy in predicting 'Yes' loans was slightly lower at 76%. However, the recall for class 'Y' is high at 0.99, indicating that the model performed very well in identifying 'Yes' loans, capturing 99% of them. This suggests that the model is good at identifying 'Yes' loans but may have more false positives in predicting 'No' loans."
      ]
    },
    {
      "cell_type": "markdown",
      "id": "d2ca9bfc",
      "metadata": {
        "id": "d2ca9bfc"
      },
      "source": [
        "The weighted average F1-score for the model is 0.76, indicating a good balance between precision and recall across both classes. However, the F1-score for class 'N' is lower at 0.58 compared to the F1-score for class 'Y' at 0.86, indicating that the model's performance is better for predicting 'Yes' loans."
      ]
    },
    {
      "cell_type": "markdown",
      "id": "5d5b6137",
      "metadata": {
        "id": "5d5b6137"
      },
      "source": [
        "The 'support' column in the classification report shows the number of samples in each class. In this case, there were 43 samples labeled 'N' (No) and 80 samples labeled 'Y' (Yes) in the test dataset."
      ]
    },
    {
      "cell_type": "markdown",
      "id": "cef1eab6",
      "metadata": {
        "id": "cef1eab6"
      },
      "source": [
        "The model exhibits strong performance in predicting loan applications that should be approved ('Yes' class), as indicated by high precision (0.76) and recall (0.99) for this class. This means that the model accurately identifies the majority of loan applications that should be approved, with a low rate of false positives."
      ]
    },
    {
      "cell_type": "markdown",
      "id": "7b1a2292",
      "metadata": {
        "id": "7b1a2292"
      },
      "source": []
    }
  ],
  "metadata": {
    "kernelspec": {
      "display_name": "Python 3 (ipykernel)",
      "language": "python",
      "name": "python3"
    },
    "language_info": {
      "codemirror_mode": {
        "name": "ipython",
        "version": 3
      },
      "file_extension": ".py",
      "mimetype": "text/x-python",
      "name": "python",
      "nbconvert_exporter": "python",
      "pygments_lexer": "ipython3",
      "version": "3.10.9"
    },
    "colab": {
      "provenance": [],
      "include_colab_link": true
    }
  },
  "nbformat": 4,
  "nbformat_minor": 5
}